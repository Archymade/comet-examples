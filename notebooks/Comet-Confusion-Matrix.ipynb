{
 "cells": [
  {
   "cell_type": "markdown",
   "metadata": {},
   "source": [
    "<img src=\"https://www.comet.ml/images/logo_comet_light.png\" width=\"200px\"/>\n",
    "\n",
    "# Comet.ml Confusion Matrix\n",
    "\n",
    "*This page is available as an executable or viewable **Jupyter Notebook**:* <br/>\n",
    "<a href=\"https://mybinder.org/v2/gh/comet-ml/comet-examples/master?filepath=notebooks%2FComet-Confusion-Matrix.ipynb\" target=\"_parent\"><img align=\"left\" src=\"https://mybinder.org/badge_logo.svg\"></a>\n",
    "<a href=\"https://nbviewer.jupyter.org/github/comet-ml/comet-examples/blob/master/notebooks/Comet-Confusion-Matrix.ipynb\" target=\"_parent\"><img align=\"right\" src=\"https://raw.githubusercontent.com/jupyter/design/master/logos/Badges/nbviewer_badge.png\" width=\"109\" height=\"20\"></a>\n",
    "<br/>\n",
    "<hr/>\n",
    "Comet.ml can generate a variety of visualizations, including line charts, scatter charts, bar charts, and histograms. This notebook explores Comet's confusion matrix chart."
   ]
  },
  {
   "cell_type": "markdown",
   "metadata": {},
   "source": [
    "## Setup\n",
    "\n",
    "The first thing we'll do in this notebook tutorial is install **comet_ml** and other items that we'll need for this demonstration. That will include **keras**, **tensorflow**, and **numpy**.\n",
    "\n",
    "First, comet_ml (you may want to do this slightly differently on your computer):"
   ]
  },
  {
   "cell_type": "code",
   "execution_count": null,
   "metadata": {},
   "outputs": [],
   "source": [
    "%pip install --upgrade comet_ml "
   ]
  },
  {
   "cell_type": "markdown",
   "metadata": {},
   "source": [
    "And now tensorflow, keras, and numpy:"
   ]
  },
  {
   "cell_type": "code",
   "execution_count": null,
   "metadata": {},
   "outputs": [],
   "source": [
    "%pip install keras tensorflow numpy"
   ]
  },
  {
   "cell_type": "markdown",
   "metadata": {},
   "source": [
    "As the output may suggest, if anything got updated, it might be a good idea to restart the kernel and continue from here (should not be required on Google's colab)."
   ]
  },
  {
   "cell_type": "markdown",
   "metadata": {},
   "source": [
    "### Comet Configuration"
   ]
  },
  {
   "cell_type": "markdown",
   "metadata": {},
   "source": [
    "To run the following experiments, you'll need to set your COMET_API_KEY. The easiest way to to this is to set the values in a cell like this:\n",
    "\n",
    "```python\n",
    "import comet_ml\n",
    "\n",
    "comet_ml.config.save(api_key=\"...\")\n",
    "```\n",
    "where you replace the ...'s with your key.\n",
    "\n",
    "You can get your COMET_API_KEY under your quickstart link (replace YOUR_USERNAME with your Comet.ml username):\n",
    "\n",
    "https://www.comet.ml/YOUR_USERNAME/quickstart\n",
    "\n"
   ]
  },
  {
   "cell_type": "markdown",
   "metadata": {},
   "source": [
    "## Example 1: Simple Confusion Matrix\n",
    "\n",
    "First, we will create an experiment:"
   ]
  },
  {
   "cell_type": "code",
   "execution_count": 3,
   "metadata": {},
   "outputs": [],
   "source": [
    "from comet_ml import Experiment"
   ]
  },
  {
   "cell_type": "markdown",
   "metadata": {},
   "source": [
    "We're not interested at the moment in logging environment details or the code and related items, so I'll not log those:"
   ]
  },
  {
   "cell_type": "code",
   "execution_count": 4,
   "metadata": {},
   "outputs": [
    {
     "name": "stderr",
     "output_type": "stream",
     "text": [
      "COMET INFO: Experiment is live on comet.ml https://www.comet.ml/dsblank/confusion-matrix/83b0b7a63fcd40eda9197bdad32774f9\n",
      "\n"
     ]
    }
   ],
   "source": [
    "experiment = Experiment(project_name=\"confusion-matrix\", log_env_details=False, log_code=False)"
   ]
  },
  {
   "cell_type": "markdown",
   "metadata": {},
   "source": [
    "As a simple example, let's consider that we have these six patterns that are our output targets (desired output):"
   ]
  },
  {
   "cell_type": "code",
   "execution_count": 5,
   "metadata": {},
   "outputs": [],
   "source": [
    "desired_output = [\n",
    "    [1, 0, 0],\n",
    "    [0, 1, 0],\n",
    "    [0, 0, 1],\n",
    "    [1, 0, 0],\n",
    "    [0, 1, 0],\n",
    "    [0, 0, 1],\n",
    " ]"
   ]
  },
  {
   "cell_type": "markdown",
   "metadata": {},
   "source": [
    "Imagine that this is a classification task where each target (desired output) is composed of three output values, with one unit \"on\" (set to 1) and the others \"off\" (set to 0). This is sometimes called a \"one-hot\" representation and is a common way of representing categories. There are 6 patterns, where there are 2 each for category.\n",
    "\n",
    "Now, let's make up some sample data that an model might produce. Let's say initially that the output is pretty random and doesn't even add up to 1 for each row. This may be unrealistic as many such classification tasks might use an error/loss output metric that is based on [cross entropy](http://www.cse.unsw.edu.au/~billw/cs9444/crossentropy.html) which would make the sum of values closer to 1. That might be desirable, but is not required for our example here."
   ]
  },
  {
   "cell_type": "code",
   "execution_count": 6,
   "metadata": {},
   "outputs": [],
   "source": [
    "actual_output = [\n",
    "    [0.1, 0.5, 0.4],\n",
    "    [0.2, 0.2, 0.3],\n",
    "    [0.7, 0.4, 0.5],\n",
    "    [0.3, 0.8, 0.3],\n",
    "    [0.0, 0.5, 0.3],\n",
    "    [0.1, 0.5, 0.5],\n",
    " ]"
   ]
  },
  {
   "cell_type": "markdown",
   "metadata": {},
   "source": [
    "Our goal now is to visualize how much the model mixes up the categories. That is, we'd like to see the Confusion Matrix comparing all categories against each other. We can do that easily by simply logging it with the experiment:"
   ]
  },
  {
   "cell_type": "code",
   "execution_count": 7,
   "metadata": {},
   "outputs": [],
   "source": [
    "experiment.log_confusion_matrix(desired_output, actual_output);"
   ]
  },
  {
   "cell_type": "markdown",
   "metadata": {},
   "source": [
    "That's it! We can now end the experiment and take a look at the resulting matrix:"
   ]
  },
  {
   "cell_type": "code",
   "execution_count": 8,
   "metadata": {},
   "outputs": [
    {
     "name": "stderr",
     "output_type": "stream",
     "text": [
      "COMET INFO: ---------------------------\n",
      "COMET INFO: Comet.ml Experiment Summary\n",
      "COMET INFO: ---------------------------\n",
      "COMET INFO:   Data:\n",
      "COMET INFO:     display_summary_level : 1\n",
      "COMET INFO:     url                   : https://www.comet.ml/dsblank/confusion-matrix/83b0b7a63fcd40eda9197bdad32774f9\n",
      "COMET INFO:   Uploads:\n",
      "COMET INFO:     confusion-matrix : 1\n",
      "COMET INFO: ---------------------------\n",
      "COMET INFO: Uploading stats to Comet before program termination (may take several seconds)\n"
     ]
    }
   ],
   "source": [
    "experiment.end()"
   ]
  },
  {
   "cell_type": "code",
   "execution_count": 9,
   "metadata": {},
   "outputs": [
    {
     "data": {
      "text/html": [
       "\n",
       "        <iframe\n",
       "            width=\"100%\"\n",
       "            height=\"800px\"\n",
       "            src=\"https://www.comet.ml/dsblank/confusion-matrix/83b0b7a63fcd40eda9197bdad32774f9?experiment-tab=confusionMatrix\"\n",
       "            frameborder=\"0\"\n",
       "            allowfullscreen\n",
       "        ></iframe>\n",
       "        "
      ],
      "text/plain": [
       "<IPython.lib.display.IFrame at 0x7feb39c52978>"
      ]
     },
     "metadata": {},
     "output_type": "display_data"
    }
   ],
   "source": [
    "experiment.display(tab=\"confusion-matrices\")"
   ]
  },
  {
   "cell_type": "markdown",
   "metadata": {},
   "source": [
    "For more details on this tab, please see the details on the [Confusion Matrix user interface](https://www.comet.ml/docs/user-interface/#confusion-matrices-tab)."
   ]
  },
  {
   "cell_type": "markdown",
   "metadata": {},
   "source": [
    "## Example #2: Log Confusion Matrices During Learning\n",
    "\n",
    "This example will create a series of confusion matrices showing how the model gets less confused as training proceeds.\n",
    "\n",
    "We will train the standard MNIST digit classification task.\n",
    "\n",
    "We import the items that we will need:"
   ]
  },
  {
   "cell_type": "code",
   "execution_count": 10,
   "metadata": {},
   "outputs": [
    {
     "name": "stderr",
     "output_type": "stream",
     "text": [
      "Using TensorFlow backend.\n"
     ]
    }
   ],
   "source": [
    "from tensorflow.keras.callbacks import Callback\n",
    "from tensorflow.keras.layers import Dense\n",
    "from tensorflow.keras.models import Sequential\n",
    "from tensorflow.keras.optimizers import RMSprop\n",
    "from tensorflow.keras.utils import to_categorical\n",
    "\n",
    "from keras.datasets import mnist\n"
   ]
  },
  {
   "cell_type": "markdown",
   "metadata": {},
   "source": [
    "We load the training set:"
   ]
  },
  {
   "cell_type": "code",
   "execution_count": 11,
   "metadata": {},
   "outputs": [],
   "source": [
    "num_classes = 10\n",
    "\n",
    "# the data, shuffled and split between train and test sets\n",
    "(x_train, y_train), (x_test, y_test) = mnist.load_data()\n",
    "\n",
    "x_train = x_train.reshape(60000, 784)\n",
    "x_test = x_test.reshape(10000, 784)\n",
    "x_train = x_train.astype(\"float32\")\n",
    "x_test = x_test.astype(\"float32\")\n",
    "x_train /= 255\n",
    "x_test /= 255\n",
    "\n",
    "# convert class vectors to binary class matrices\n",
    "y_train = to_categorical(y_train, num_classes)\n",
    "y_test = to_categorical(y_test, num_classes)"
   ]
  },
  {
   "cell_type": "markdown",
   "metadata": {},
   "source": [
    "Define a function to create the model:"
   ]
  },
  {
   "cell_type": "code",
   "execution_count": 12,
   "metadata": {},
   "outputs": [],
   "source": [
    "def create_model():\n",
    "    model = Sequential()\n",
    "    model.add(Dense(128, activation=\"sigmoid\", input_shape=(784,)))\n",
    "    model.add(Dense(128, activation=\"sigmoid\"))\n",
    "    model.add(Dense(128, activation=\"sigmoid\"))\n",
    "    model.add(Dense(10, activation=\"softmax\"))\n",
    "    model.compile(\n",
    "        loss=\"categorical_crossentropy\", optimizer=RMSprop(), metrics=[\"accuracy\"]\n",
    "    )\n",
    "    return model"
   ]
  },
  {
   "cell_type": "markdown",
   "metadata": {},
   "source": [
    "Next, we define a Keras callback to log the confusion matrix:"
   ]
  },
  {
   "cell_type": "code",
   "execution_count": 13,
   "metadata": {},
   "outputs": [],
   "source": [
    "class ConfusionMatrixCallback(Callback):\n",
    "    def __init__(self, experiment, inputs, targets):\n",
    "        self.experiment = experiment\n",
    "        self.inputs = inputs\n",
    "        self.targets = targets\n",
    "\n",
    "    def on_epoch_end(self, epoch, logs={}):\n",
    "        predicted = self.model.predict(self.inputs)\n",
    "        self.experiment.log_confusion_matrix(\n",
    "            self.targets,\n",
    "            predicted,\n",
    "            title=\"Confusion Matrix, Epoch #%d\" % (epoch + 1),\n",
    "            file_name=\"confusion-matrix-%03d.json\" % (epoch + 1),\n",
    "        )"
   ]
  },
  {
   "cell_type": "markdown",
   "metadata": {},
   "source": [
    "And create another Comet experiment:"
   ]
  },
  {
   "cell_type": "code",
   "execution_count": 14,
   "metadata": {},
   "outputs": [
    {
     "name": "stderr",
     "output_type": "stream",
     "text": [
      "COMET INFO: Experiment is live on comet.ml https://www.comet.ml/dsblank/confusion-matrix/520ae40116b542339a1e3af9b36c6c13\n",
      "\n"
     ]
    }
   ],
   "source": [
    "experiment = Experiment(project_name=\"confusion-matrix\", log_env_details=False, log_code=False)"
   ]
  },
  {
   "cell_type": "markdown",
   "metadata": {},
   "source": [
    "Before any training, we want to log the confusion so that we can see what it looks like before any adjusting of weights in the network:"
   ]
  },
  {
   "cell_type": "code",
   "execution_count": 15,
   "metadata": {},
   "outputs": [],
   "source": [
    "model = create_model()\n",
    "\n",
    "y_predicted = model.predict(x_test)"
   ]
  },
  {
   "cell_type": "markdown",
   "metadata": {},
   "source": [
    "We also supply the step (zero, before training), a title, and file_name:"
   ]
  },
  {
   "cell_type": "code",
   "execution_count": 16,
   "metadata": {},
   "outputs": [],
   "source": [
    "experiment.log_confusion_matrix(\n",
    "    y_test,\n",
    "    y_predicted,\n",
    "    step=0,\n",
    "    title=\"Confusion Matrix, Epoch #0\",\n",
    "    file_name=\"confusion-matrix-%03d.json\" % 0,\n",
    ");"
   ]
  },
  {
   "cell_type": "markdown",
   "metadata": {},
   "source": [
    "We now create the callback and train the data for 5 epochs:"
   ]
  },
  {
   "cell_type": "code",
   "execution_count": 17,
   "metadata": {},
   "outputs": [
    {
     "name": "stderr",
     "output_type": "stream",
     "text": [
      "COMET INFO: Ignoring automatic log_parameter('verbose') because 'keras:verbose' is in COMET_LOGGING_PARAMETERS_IGNORE\n"
     ]
    },
    {
     "name": "stdout",
     "output_type": "stream",
     "text": [
      "Epoch 1/5\n",
      "500/500 [==============================] - 3s 7ms/step - loss: 0.7692 - accuracy: 0.7839 - val_loss: 0.3215 - val_accuracy: 0.9076\n",
      "Epoch 2/5\n",
      "500/500 [==============================] - 5s 9ms/step - loss: 0.2624 - accuracy: 0.9231 - val_loss: 0.2152 - val_accuracy: 0.9364\n",
      "Epoch 3/5\n",
      "500/500 [==============================] - 5s 9ms/step - loss: 0.1884 - accuracy: 0.9438 - val_loss: 0.1677 - val_accuracy: 0.9499\n",
      "Epoch 4/5\n",
      "500/500 [==============================] - 6s 12ms/step - loss: 0.1467 - accuracy: 0.9561 - val_loss: 0.1340 - val_accuracy: 0.9600\n",
      "Epoch 5/5\n",
      "500/500 [==============================] - 4s 9ms/step - loss: 0.1215 - accuracy: 0.9641 - val_loss: 0.1334 - val_accuracy: 0.9605\n"
     ]
    },
    {
     "data": {
      "text/plain": [
       "<tensorflow.python.keras.callbacks.History at 0x7feac736c048>"
      ]
     },
     "execution_count": 17,
     "metadata": {},
     "output_type": "execute_result"
    }
   ],
   "source": [
    "callback = ConfusionMatrixCallback(experiment, x_test, y_test)\n",
    "\n",
    "model.fit(\n",
    "    x_train,\n",
    "    y_train,\n",
    "    batch_size=120,\n",
    "    epochs=5,\n",
    "    callbacks=[callback],\n",
    "    validation_data=(x_test, y_test),\n",
    ")"
   ]
  },
  {
   "cell_type": "code",
   "execution_count": 18,
   "metadata": {},
   "outputs": [
    {
     "name": "stderr",
     "output_type": "stream",
     "text": [
      "COMET INFO: ---------------------------\n",
      "COMET INFO: Comet.ml Experiment Summary\n",
      "COMET INFO: ---------------------------\n",
      "COMET INFO:   Data:\n",
      "COMET INFO:     display_summary_level : 1\n",
      "COMET INFO:     url                   : https://www.comet.ml/dsblank/confusion-matrix/520ae40116b542339a1e3af9b36c6c13\n",
      "COMET INFO:   Metrics [count] (min, max):\n",
      "COMET INFO:     accuracy [5]                 : (0.7838666439056396, 0.9641166925430298)\n",
      "COMET INFO:     batch_accuracy [250]         : (0.13636364042758942, 1.0)\n",
      "COMET INFO:     batch_loss [250]             : (0.04782987758517265, 2.5684618949890137)\n",
      "COMET INFO:     epoch_duration [5]           : (4.1854288920003455, 5.977348262007581)\n",
      "COMET INFO:     loss [5]                     : (0.12148473411798477, 0.7692136764526367)\n",
      "COMET INFO:     val_accuracy [5]             : (0.9075999855995178, 0.9605000019073486)\n",
      "COMET INFO:     val_loss [5]                 : (0.13343778252601624, 0.32149606943130493)\n",
      "COMET INFO:     validate_batch_accuracy [45] : (0.8801587224006653, 0.9916666746139526)\n",
      "COMET INFO:     validate_batch_loss [45]     : (0.03737679868936539, 0.3995896577835083)\n",
      "COMET INFO:   Others:\n",
      "COMET INFO:     trainable_params : 134794\n",
      "COMET INFO:   Parameters:\n",
      "COMET INFO:     Optimizer             : RMSprop\n",
      "COMET INFO:     RMSprop_centered      : 1\n",
      "COMET INFO:     RMSprop_decay         : 1\n",
      "COMET INFO:     RMSprop_epsilon       : 1e-07\n",
      "COMET INFO:     RMSprop_learning_rate : 0.001\n",
      "COMET INFO:     RMSprop_momentum      : 1\n",
      "COMET INFO:     RMSprop_name          : RMSprop\n",
      "COMET INFO:     RMSprop_rho           : 0.9\n",
      "COMET INFO:     epochs                : 5\n",
      "COMET INFO:     steps                 : 500\n",
      "COMET INFO:   Uploads [count]:\n",
      "COMET INFO:     confusion-matrix [6] : 6\n",
      "COMET INFO:     model graph          : 1\n",
      "COMET INFO: ---------------------------\n",
      "COMET INFO: Uploading stats to Comet before program termination (may take several seconds)\n"
     ]
    }
   ],
   "source": [
    "experiment.end()"
   ]
  },
  {
   "cell_type": "markdown",
   "metadata": {},
   "source": [
    "Now we take a look at the matrices created over the training. You can switch between confusion matrices by selecting the name in the upper, left-hand corner."
   ]
  },
  {
   "cell_type": "code",
   "execution_count": 19,
   "metadata": {},
   "outputs": [
    {
     "data": {
      "text/html": [
       "\n",
       "        <iframe\n",
       "            width=\"100%\"\n",
       "            height=\"800px\"\n",
       "            src=\"https://www.comet.ml/dsblank/confusion-matrix/520ae40116b542339a1e3af9b36c6c13?experiment-tab=confusionMatrix\"\n",
       "            frameborder=\"0\"\n",
       "            allowfullscreen\n",
       "        ></iframe>\n",
       "        "
      ],
      "text/plain": [
       "<IPython.lib.display.IFrame at 0x7feaca309f28>"
      ]
     },
     "metadata": {},
     "output_type": "display_data"
    }
   ],
   "source": [
    "experiment.display(tab=\"confusion-matrices\")"
   ]
  },
  {
   "cell_type": "markdown",
   "metadata": {},
   "source": [
    "## Example 3: Create Images for Each Sample\n",
    "\n",
    "For this example, we will create images for each example, up to 25 examples per cell."
   ]
  },
  {
   "cell_type": "markdown",
   "metadata": {},
   "source": [
    "To create an example for each item, we write an `index_to_example` function that takes an index position (offset into the training data), create and log an image, and then return the `assetId` as a key in a dict:"
   ]
  },
  {
   "cell_type": "code",
   "execution_count": 20,
   "metadata": {},
   "outputs": [],
   "source": [
    "def index_to_example(index):\n",
    "    image_array = x_test[index]\n",
    "    image_name = \"confusion-matrix-%05d.png\" % index\n",
    "    results = experiment.log_image(\n",
    "        image_array, name=image_name, image_shape=(28, 28, 1)\n",
    "    )\n",
    "    # Return sample, assetId (index is added automatically)\n",
    "    return {\"sample\": image_name, \"assetId\": results[\"imageId\"]}"
   ]
  },
  {
   "cell_type": "markdown",
   "metadata": {},
   "source": [
    "We'll do the same steps as above:\n",
    "\n",
    "1. create an experiment\n",
    "2. create the model\n",
    "3. log inital confusion\n",
    "4. create a callback\n",
    "5. train the model\n",
    "6. display the experiment"
   ]
  },
  {
   "cell_type": "code",
   "execution_count": 21,
   "metadata": {},
   "outputs": [
    {
     "name": "stderr",
     "output_type": "stream",
     "text": [
      "COMET INFO: Experiment is live on comet.ml https://www.comet.ml/dsblank/confusion-matrix/87134010b2024530ac576c94f9ca13f0\n",
      "\n"
     ]
    }
   ],
   "source": [
    "experiment = Experiment(project_name=\"confusion-matrix\", log_env_details=False, log_code=False)"
   ]
  },
  {
   "cell_type": "code",
   "execution_count": 22,
   "metadata": {},
   "outputs": [],
   "source": [
    "model = create_model()\n",
    "\n",
    "y_predicted = model.predict(x_test)"
   ]
  },
  {
   "cell_type": "code",
   "execution_count": 23,
   "metadata": {},
   "outputs": [],
   "source": [
    "experiment.log_confusion_matrix(\n",
    "    y_test,\n",
    "    y_predicted,\n",
    "    step=0,\n",
    "    title=\"Confusion Matrix, Epoch #0\",\n",
    "    file_name=\"confusion-matrix-%03d.json\" % 0,\n",
    "    index_to_example_function=index_to_example,\n",
    ");"
   ]
  },
  {
   "cell_type": "code",
   "execution_count": 24,
   "metadata": {},
   "outputs": [],
   "source": [
    "class ConfusionMatrixCallbackWithImages(Callback):\n",
    "    def __init__(self, experiment, inputs, targets):\n",
    "        self.experiment = experiment\n",
    "        self.inputs = inputs\n",
    "        self.targets = targets\n",
    "\n",
    "    def on_epoch_end(self, epoch, logs={}):\n",
    "        predicted = self.model.predict(self.inputs)\n",
    "        self.experiment.log_confusion_matrix(\n",
    "            self.targets,\n",
    "            predicted,\n",
    "            title=\"Confusion Matrix, Epoch #%d\" % (epoch + 1),\n",
    "            file_name=\"confusion-matrix-%03d.json\" % (epoch + 1),\n",
    "            index_to_example_function=index_to_example,\n",
    "        )"
   ]
  },
  {
   "cell_type": "markdown",
   "metadata": {},
   "source": [
    "Now we'll train as before. \n",
    "\n",
    "**NOTE: this takes a lot longer than before, but we'll see how to speed this up in the next example.**"
   ]
  },
  {
   "cell_type": "code",
   "execution_count": 25,
   "metadata": {},
   "outputs": [
    {
     "name": "stdout",
     "output_type": "stream",
     "text": [
      "Epoch 1/5\n",
      "500/500 [==============================] - 53s 105ms/step - loss: 0.7570 - accuracy: 0.7906 - val_loss: 0.3016 - val_accuracy: 0.9126\n",
      "Epoch 2/5\n",
      "500/500 [==============================] - 51s 103ms/step - loss: 0.2610 - accuracy: 0.9223 - val_loss: 0.2186 - val_accuracy: 0.9340\n",
      "Epoch 3/5\n",
      "500/500 [==============================] - 45s 90ms/step - loss: 0.1938 - accuracy: 0.9425 - val_loss: 0.1755 - val_accuracy: 0.9462\n",
      "Epoch 4/5\n",
      "500/500 [==============================] - 44s 87ms/step - loss: 0.1525 - accuracy: 0.9553 - val_loss: 0.1425 - val_accuracy: 0.9579\n",
      "Epoch 5/5\n",
      "500/500 [==============================] - 45s 90ms/step - loss: 0.1253 - accuracy: 0.9629 - val_loss: 0.1394 - val_accuracy: 0.9576\n"
     ]
    },
    {
     "data": {
      "text/plain": [
       "<tensorflow.python.keras.callbacks.History at 0x7feb7660c0b8>"
      ]
     },
     "execution_count": 25,
     "metadata": {},
     "output_type": "execute_result"
    }
   ],
   "source": [
    "callback = ConfusionMatrixCallbackWithImages(experiment, x_test, y_test)\n",
    "\n",
    "model.fit(\n",
    "    x_train,\n",
    "    y_train,\n",
    "    batch_size=120,\n",
    "    epochs=5,\n",
    "    callbacks=[callback],\n",
    "    validation_data=(x_test, y_test),\n",
    ")"
   ]
  },
  {
   "cell_type": "code",
   "execution_count": 26,
   "metadata": {},
   "outputs": [
    {
     "name": "stderr",
     "output_type": "stream",
     "text": [
      "COMET INFO: ---------------------------\n",
      "COMET INFO: Comet.ml Experiment Summary\n",
      "COMET INFO: ---------------------------\n",
      "COMET INFO:   Data:\n",
      "COMET INFO:     display_summary_level : 1\n",
      "COMET INFO:     url                   : https://www.comet.ml/dsblank/confusion-matrix/87134010b2024530ac576c94f9ca13f0\n",
      "COMET INFO:   Metrics [count] (min, max):\n",
      "COMET INFO:     accuracy [5]                 : (0.7905833125114441, 0.9628999829292297)\n",
      "COMET INFO:     batch_accuracy [250]         : (0.05833333358168602, 0.9635313749313354)\n",
      "COMET INFO:     batch_loss [250]             : (0.11790867149829865, 2.550222158432007)\n",
      "COMET INFO:     epoch_duration [5]           : (43.598175827995874, 53.311691359995166)\n",
      "COMET INFO:     loss [5]                     : (0.1252802461385727, 0.75697922706604)\n",
      "COMET INFO:     val_accuracy [5]             : (0.9125999808311462, 0.9578999876976013)\n",
      "COMET INFO:     val_loss [5]                 : (0.1394064873456955, 0.3016434609889984)\n",
      "COMET INFO:     validate_batch_accuracy [45] : (0.8910568952560425, 0.9833333492279053)\n",
      "COMET INFO:     validate_batch_loss [45]     : (0.057086922228336334, 0.3748510479927063)\n",
      "COMET INFO:   Others:\n",
      "COMET INFO:     trainable_params : 134794\n",
      "COMET INFO:   Parameters:\n",
      "COMET INFO:     Optimizer             : RMSprop\n",
      "COMET INFO:     RMSprop_centered      : 1\n",
      "COMET INFO:     RMSprop_decay         : 1\n",
      "COMET INFO:     RMSprop_epsilon       : 1e-07\n",
      "COMET INFO:     RMSprop_learning_rate : 0.001\n",
      "COMET INFO:     RMSprop_momentum      : 1\n",
      "COMET INFO:     RMSprop_name          : RMSprop\n",
      "COMET INFO:     RMSprop_rho           : 0.9\n",
      "COMET INFO:     epochs                : 5\n",
      "COMET INFO:     steps                 : 500\n",
      "COMET INFO:   Uploads [count]:\n",
      "COMET INFO:     confusion-matrix [6] : 6\n",
      "COMET INFO:     images [4190]        : 4190\n",
      "COMET INFO:     model graph          : 1\n",
      "COMET INFO: ---------------------------\n",
      "COMET INFO: Uploading stats to Comet before program termination (may take several seconds)\n"
     ]
    }
   ],
   "source": [
    "experiment.end()"
   ]
  },
  {
   "cell_type": "code",
   "execution_count": 27,
   "metadata": {},
   "outputs": [
    {
     "data": {
      "text/html": [
       "\n",
       "        <iframe\n",
       "            width=\"100%\"\n",
       "            height=\"800px\"\n",
       "            src=\"https://www.comet.ml/dsblank/confusion-matrix/87134010b2024530ac576c94f9ca13f0?experiment-tab=confusionMatrix\"\n",
       "            frameborder=\"0\"\n",
       "            allowfullscreen\n",
       "        ></iframe>\n",
       "        "
      ],
      "text/plain": [
       "<IPython.lib.display.IFrame at 0x7feab80c1f60>"
      ]
     },
     "metadata": {},
     "output_type": "display_data"
    }
   ],
   "source": [
    "experiment.display(tab=\"confusion-matrices\")"
   ]
  },
  {
   "cell_type": "markdown",
   "metadata": {},
   "source": [
    "What is very nice about this is that if you click on a cell, you can see examples of the types of digits that fall into this group. For example if you click in the cell counting the confusion between 8's and 0's you'll see a sample of exactly which of those images.\n",
    "\n",
    "However, there is a large issue with this example. Looking at the summary above, you can see that many thousands of images were uploaded. In addition, if you explore the confusion matrices over the course of learning, you'll see different examples for every epoch. The next example fixes that issue."
   ]
  },
  {
   "cell_type": "markdown",
   "metadata": {},
   "source": [
    "## Example 4: Reuse ConfusionMatrix instance\n",
    "\n",
    "Now, we want to create example images for each of the cells in the matrix. In addition, we want to re-use the images if we can.\n",
    "\n",
    "For this, we will create a `ConfusionMatrix` instance and re-use it."
   ]
  },
  {
   "cell_type": "code",
   "execution_count": 28,
   "metadata": {},
   "outputs": [],
   "source": [
    "from comet_ml import ConfusionMatrix"
   ]
  },
  {
   "cell_type": "markdown",
   "metadata": {},
   "source": [
    "We create a callback, like, before; however, this time we will keep track of an instance of the `ConfusionMatrix`:"
   ]
  },
  {
   "cell_type": "code",
   "execution_count": 29,
   "metadata": {},
   "outputs": [],
   "source": [
    "class ConfusionMatrixCallbackReuseImages(Callback):\n",
    "    def __init__(self, experiment, inputs, targets, confusion_matrix):\n",
    "        self.experiment = experiment\n",
    "        self.inputs = inputs\n",
    "        self.targets = targets\n",
    "        self.confusion_matrix = confusion_matrix\n",
    "\n",
    "    def on_epoch_end(self, epoch, logs={}):\n",
    "        predicted = self.model.predict(self.inputs)\n",
    "        self.confusion_matrix.compute_matrix(self.targets, predicted)\n",
    "        self.experiment.log_confusion_matrix(\n",
    "            matrix=self.confusion_matrix,\n",
    "            title=\"Confusion Matrix, Epoch #%d\" % (epoch + 1),\n",
    "            file_name=\"confusion-matrix-%03d.json\" % (epoch + 1),\n",
    "        )"
   ]
  },
  {
   "cell_type": "markdown",
   "metadata": {},
   "source": [
    "We create another Comet experiment:"
   ]
  },
  {
   "cell_type": "code",
   "execution_count": 30,
   "metadata": {},
   "outputs": [
    {
     "name": "stderr",
     "output_type": "stream",
     "text": [
      "COMET INFO: Experiment is live on comet.ml https://www.comet.ml/dsblank/confusion-matrix/ebe3ed63818d4aac8495b45bd8807e6c\n",
      "\n"
     ]
    }
   ],
   "source": [
    "experiment = Experiment(project_name=\"confusion-matrix\", log_env_details=False, log_code=False)"
   ]
  },
  {
   "cell_type": "markdown",
   "metadata": {},
   "source": [
    "And another model:"
   ]
  },
  {
   "cell_type": "code",
   "execution_count": 31,
   "metadata": {},
   "outputs": [],
   "source": [
    "model = create_model()"
   ]
  },
  {
   "cell_type": "markdown",
   "metadata": {},
   "source": [
    "Again, before training, we log the confusion matrix:"
   ]
  },
  {
   "cell_type": "code",
   "execution_count": 32,
   "metadata": {},
   "outputs": [],
   "source": [
    "# Before any training:\n",
    "y_predicted = model.predict(x_test)"
   ]
  },
  {
   "cell_type": "markdown",
   "metadata": {},
   "source": [
    "First, we make an instance, passing in the `index_to_example` function:"
   ]
  },
  {
   "cell_type": "code",
   "execution_count": 33,
   "metadata": {},
   "outputs": [],
   "source": [
    "confusion_matrix = ConfusionMatrix(index_to_example_function=index_to_example)"
   ]
  },
  {
   "cell_type": "markdown",
   "metadata": {},
   "source": [
    "Now, we use the `comet_matrix` method of the `ConfusionMatrix` class:"
   ]
  },
  {
   "cell_type": "code",
   "execution_count": 34,
   "metadata": {},
   "outputs": [],
   "source": [
    "confusion_matrix.compute_matrix(y_test, y_predicted)"
   ]
  },
  {
   "cell_type": "markdown",
   "metadata": {},
   "source": [
    "We can use the `ConfusionMatrix` instance to see a rough ASCII version:"
   ]
  },
  {
   "cell_type": "code",
   "execution_count": 35,
   "metadata": {},
   "outputs": [
    {
     "name": "stdout",
     "output_type": "stream",
     "text": [
      "   A                Confusion Matrix            \n",
      "   c               Predicted Category           \n",
      "   t       0   1   2   3   4   5   6   7   8   9\n",
      "   u   0   0   0   0   0   0   0 980   0   0   0\n",
      "   a   1   0   0   0   0   0   0 113   0   0   0\n",
      "   l   2   0   0   0   0   0   0 103   0   0   0\n",
      "       3   0   0   0   0   0   0 101   0   0   0\n",
      "   C   4   0   0   0   0   0   0 982   0   0   0\n",
      "   a   5   0   0   0   0   0   0 892   0   0   0\n",
      "   t   6   0   0   0   0   0   0 958   0   0   0\n",
      "   e   7   0   0   0   0   0   0 102   0   0   0\n",
      "   g   8   0   0   0   0   0   0 974   0   0   0\n",
      "   o   9   0   0   0   0   0   0 100   0   0   0\n",
      "   r\n"
     ]
    }
   ],
   "source": [
    "confusion_matrix.display()"
   ]
  },
  {
   "cell_type": "markdown",
   "metadata": {},
   "source": [
    "This time, instead of logging the actual and predicted vectors, we instead pass in the entire ConfusionMatrix as the matrix:"
   ]
  },
  {
   "cell_type": "code",
   "execution_count": 36,
   "metadata": {},
   "outputs": [],
   "source": [
    "experiment.log_confusion_matrix(\n",
    "    matrix=confusion_matrix,\n",
    "    step=0,\n",
    "    title=\"Confusion Matrix, Epoch #0\",\n",
    "    file_name=\"confusion-matrix-%03d.json\" % 0,\n",
    ");"
   ]
  },
  {
   "cell_type": "markdown",
   "metadata": {},
   "source": [
    "Again, we create callbacks, and train the network (this will take just a little more time, as it is generating the assets on the fly):"
   ]
  },
  {
   "cell_type": "code",
   "execution_count": 37,
   "metadata": {},
   "outputs": [
    {
     "name": "stdout",
     "output_type": "stream",
     "text": [
      "Epoch 1/5\n",
      "500/500 [==============================] - 40s 80ms/step - loss: 0.7613 - accuracy: 0.7793 - val_loss: 0.3068 - val_accuracy: 0.9096\n",
      "Epoch 2/5\n",
      "500/500 [==============================] - 8s 16ms/step - loss: 0.2611 - accuracy: 0.9230 - val_loss: 0.2284 - val_accuracy: 0.9323\n",
      "Epoch 3/5\n",
      "500/500 [==============================] - 9s 17ms/step - loss: 0.1878 - accuracy: 0.9441 - val_loss: 0.1738 - val_accuracy: 0.9469\n",
      "Epoch 4/5\n",
      "500/500 [==============================] - 7s 14ms/step - loss: 0.1447 - accuracy: 0.9571 - val_loss: 0.1399 - val_accuracy: 0.9579\n",
      "Epoch 5/5\n",
      "500/500 [==============================] - 8s 15ms/step - loss: 0.1184 - accuracy: 0.9649 - val_loss: 0.1288 - val_accuracy: 0.9614\n"
     ]
    },
    {
     "data": {
      "text/plain": [
       "<tensorflow.python.keras.callbacks.History at 0x7fea802f4c18>"
      ]
     },
     "execution_count": 37,
     "metadata": {},
     "output_type": "execute_result"
    }
   ],
   "source": [
    "callback = ConfusionMatrixCallbackReuseImages(experiment, x_test, y_test, confusion_matrix)\n",
    "\n",
    "model.fit(\n",
    "    x_train,\n",
    "    y_train,\n",
    "    batch_size=120,\n",
    "    epochs=5,\n",
    "    callbacks=[callback],\n",
    "    validation_data=(x_test, y_test),\n",
    ")"
   ]
  },
  {
   "cell_type": "markdown",
   "metadata": {},
   "source": [
    "We end the experiment (here you can see how many assets were uploaded):"
   ]
  },
  {
   "cell_type": "code",
   "execution_count": 38,
   "metadata": {},
   "outputs": [
    {
     "name": "stderr",
     "output_type": "stream",
     "text": [
      "COMET INFO: ---------------------------\n",
      "COMET INFO: Comet.ml Experiment Summary\n",
      "COMET INFO: ---------------------------\n",
      "COMET INFO:   Data:\n",
      "COMET INFO:     display_summary_level : 1\n",
      "COMET INFO:     url                   : https://www.comet.ml/dsblank/confusion-matrix/ebe3ed63818d4aac8495b45bd8807e6c\n",
      "COMET INFO:   Metrics [count] (min, max):\n",
      "COMET INFO:     accuracy [5]                 : (0.779283344745636, 0.9648833274841309)\n",
      "COMET INFO:     batch_accuracy [250]         : (0.10833333432674408, 0.9668043851852417)\n",
      "COMET INFO:     batch_loss [250]             : (0.11605541408061981, 2.4975242614746094)\n",
      "COMET INFO:     epoch_duration [5]           : (7.196464898996055, 40.55458005800028)\n",
      "COMET INFO:     loss [5]                     : (0.11840632557868958, 0.7613354325294495)\n",
      "COMET INFO:     val_accuracy [5]             : (0.909600019454956, 0.9613999724388123)\n",
      "COMET INFO:     val_loss [5]                 : (0.12881015241146088, 0.3067838251590729)\n",
      "COMET INFO:     validate_batch_accuracy [45] : (0.8863821029663086, 1.0)\n",
      "COMET INFO:     validate_batch_loss [45]     : (0.03379882872104645, 0.37192603945732117)\n",
      "COMET INFO:   Others:\n",
      "COMET INFO:     trainable_params : 134794\n",
      "COMET INFO:   Parameters:\n",
      "COMET INFO:     Optimizer             : RMSprop\n",
      "COMET INFO:     RMSprop_centered      : 1\n",
      "COMET INFO:     RMSprop_decay         : 1\n",
      "COMET INFO:     RMSprop_epsilon       : 1e-07\n",
      "COMET INFO:     RMSprop_learning_rate : 0.001\n",
      "COMET INFO:     RMSprop_momentum      : 1\n",
      "COMET INFO:     RMSprop_name          : RMSprop\n",
      "COMET INFO:     RMSprop_rho           : 0.9\n",
      "COMET INFO:     epochs                : 5\n",
      "COMET INFO:     steps                 : 500\n",
      "COMET INFO:   Uploads [count]:\n",
      "COMET INFO:     confusion-matrix [6] : 6\n",
      "COMET INFO:     images [1180]        : 1180\n",
      "COMET INFO:     model graph          : 1\n",
      "COMET INFO: ---------------------------\n",
      "COMET INFO: Uploading stats to Comet before program termination (may take several seconds)\n",
      "COMET INFO: Waiting for completion of the file uploads (may take several seconds)\n",
      "COMET INFO: Still uploading\n"
     ]
    }
   ],
   "source": [
    "experiment.end()"
   ]
  },
  {
   "cell_type": "markdown",
   "metadata": {},
   "source": [
    "First, you'll notice that this trained much faster than the previous example, and the number of images was reduced by about 75%. That is becaused we reused the examples in each cell where we can."
   ]
  },
  {
   "cell_type": "markdown",
   "metadata": {},
   "source": [
    "See the full confusion matrix, complete with sample images in each cell (click on a cell to see the examples):"
   ]
  },
  {
   "cell_type": "code",
   "execution_count": 39,
   "metadata": {},
   "outputs": [
    {
     "data": {
      "text/html": [
       "\n",
       "        <iframe\n",
       "            width=\"100%\"\n",
       "            height=\"800px\"\n",
       "            src=\"https://www.comet.ml/dsblank/confusion-matrix/ebe3ed63818d4aac8495b45bd8807e6c?experiment-tab=confusionMatrix\"\n",
       "            frameborder=\"0\"\n",
       "            allowfullscreen\n",
       "        ></iframe>\n",
       "        "
      ],
      "text/plain": [
       "<IPython.lib.display.IFrame at 0x7fea801cc9e8>"
      ]
     },
     "metadata": {},
     "output_type": "display_data"
    }
   ],
   "source": [
    "experiment.display(tab=\"confusion-matrices\")"
   ]
  },
  {
   "cell_type": "markdown",
   "metadata": {},
   "source": [
    "In the `index_to_example` function you can return:\n",
    "\n",
    "* an integer, representing the index\n",
    "* a string, representing text to show in the Example View\n",
    "* an URL, representing a link to show in the Example View\n",
    "* a `{\"sample\": NAME, \"assetId\": ASSET-ID}` dictionary, representing an image asset"
   ]
  },
  {
   "cell_type": "markdown",
   "metadata": {},
   "source": [
    "The `ConfusionMatrix` object allows many options, including:\n",
    "\n",
    "* automatically finding the \"most confused\" categories, if more than 25\n",
    "* limit the categories shown (use `ConfusionMatrix(selected=[...])`)\n",
    "* change the row and column labels\n",
    "* change the category labels\n",
    "* change the title\n",
    "* display text, URLs, or images in Example View"
   ]
  },
  {
   "cell_type": "markdown",
   "metadata": {},
   "source": [
    "## Example 5: Using Sets of Examples\n",
    "\n",
    "Now, we'll use one image for a set of examples. Before we assumed that there was one image for each index. We change that assumption to use one image for a set.\n",
    "\n",
    "To do this, we'll subclass the ConfusionMatrix and override the method that caches the images."
   ]
  },
  {
   "cell_type": "code",
   "execution_count": 40,
   "metadata": {},
   "outputs": [],
   "source": [
    "from comet_ml import ConfusionMatrix"
   ]
  },
  {
   "cell_type": "markdown",
   "metadata": {},
   "source": [
    "The heart of the solution is to change how we map indices to examples. Since we want to map all of the instances of one class to a single example, when we encounter an new example, we map all of them at once.\n",
    "\n",
    "In the constructor, we grab all of the labels for all of the patterns. We then override `_put_example_in_cache()` to do the mapping."
   ]
  },
  {
   "cell_type": "code",
   "execution_count": 41,
   "metadata": {},
   "outputs": [],
   "source": [
    "class MyConfusionMatrix(ConfusionMatrix):\n",
    "    def __init__(self, *args, **kwargs):\n",
    "        super().__init__(*args, **kwargs)\n",
    "        self.my_labels = self.winner_function(y_test)\n",
    "\n",
    "    def _put_example_in_cache(self, index, example):\n",
    "        # first, we find all of the items in the same set as index:\n",
    "        this_label = self.my_labels[index]\n",
    "        index_set = [index for (index, label) in enumerate(self.my_labels) if label == this_label]\n",
    "        for key in index_set:\n",
    "            self._cache_example[key] = example\n"
   ]
  },
  {
   "cell_type": "markdown",
   "metadata": {},
   "source": [
    "Everything else is the same:"
   ]
  },
  {
   "cell_type": "code",
   "execution_count": 42,
   "metadata": {},
   "outputs": [
    {
     "name": "stderr",
     "output_type": "stream",
     "text": [
      "COMET INFO: Experiment is live on comet.ml https://www.comet.ml/dsblank/confusion-matrix/b3c8ac1e374346b2ae7ec385b189772c\n",
      "\n"
     ]
    }
   ],
   "source": [
    "experiment = Experiment(project_name=\"confusion-matrix\", log_env_details=False, log_code=False)"
   ]
  },
  {
   "cell_type": "markdown",
   "metadata": {},
   "source": [
    "And another model:"
   ]
  },
  {
   "cell_type": "code",
   "execution_count": 43,
   "metadata": {},
   "outputs": [],
   "source": [
    "model = create_model()"
   ]
  },
  {
   "cell_type": "markdown",
   "metadata": {},
   "source": [
    "Again, before training, we log the confusion matrix:"
   ]
  },
  {
   "cell_type": "code",
   "execution_count": 44,
   "metadata": {},
   "outputs": [],
   "source": [
    "# Before any training:\n",
    "y_predicted = model.predict(x_test)"
   ]
  },
  {
   "cell_type": "markdown",
   "metadata": {},
   "source": [
    "First, we make an instance, passing in the `index_to_example` function:"
   ]
  },
  {
   "cell_type": "code",
   "execution_count": 45,
   "metadata": {},
   "outputs": [],
   "source": [
    "confusion_matrix = MyConfusionMatrix(index_to_example_function=index_to_example)"
   ]
  },
  {
   "cell_type": "markdown",
   "metadata": {},
   "source": [
    "Now, we use the `comet_matrix` method of the `ConfusionMatrix` class:"
   ]
  },
  {
   "cell_type": "code",
   "execution_count": 46,
   "metadata": {},
   "outputs": [],
   "source": [
    "confusion_matrix.compute_matrix(y_test, y_predicted)"
   ]
  },
  {
   "cell_type": "markdown",
   "metadata": {},
   "source": [
    "We can use the `MyConfusionMatrix` instance to see a rough ASCII version:"
   ]
  },
  {
   "cell_type": "code",
   "execution_count": 47,
   "metadata": {},
   "outputs": [
    {
     "name": "stdout",
     "output_type": "stream",
     "text": [
      "   A                Confusion Matrix            \n",
      "   c               Predicted Category           \n",
      "   t       0   1   2   3   4   5   6   7   8   9\n",
      "   u   0   0   0   0 980   0   0   0   0   0   0\n",
      "   a   1   0   0   0 113   0   0   0   0   0   0\n",
      "   l   2   0   0   0 103   0   0   0   0   0   0\n",
      "       3   0   0   0 101   0   0   0   0   0   0\n",
      "   C   4   0   0   0 982   0   0   0   0   0   0\n",
      "   a   5   0   0   0 892   0   0   0   0   0   0\n",
      "   t   6   0   0   0 958   0   0   0   0   0   0\n",
      "   e   7   0   0   0 102   0   0   0   0   0   0\n",
      "   g   8   0   0   0 974   0   0   0   0   0   0\n",
      "   o   9   0   0   0 100   0   0   0   0   0   0\n",
      "   r\n"
     ]
    }
   ],
   "source": [
    "confusion_matrix.display()"
   ]
  },
  {
   "cell_type": "markdown",
   "metadata": {},
   "source": [
    "This time, instead of logging the actual and predicted vectors, we instead pass in the entire `MyConfusionMatrix` as the matrix:"
   ]
  },
  {
   "cell_type": "code",
   "execution_count": 48,
   "metadata": {},
   "outputs": [],
   "source": [
    "experiment.log_confusion_matrix(\n",
    "    matrix=confusion_matrix,\n",
    "    step=0,\n",
    "    title=\"Confusion Matrix, Epoch #0\",\n",
    "    file_name=\"confusion-matrix-%03d.json\" % 0,\n",
    ");"
   ]
  },
  {
   "cell_type": "markdown",
   "metadata": {},
   "source": [
    "Again, we create callbacks, and train the network (this will take just a little more time, as it is generating the assets on the fly):"
   ]
  },
  {
   "cell_type": "code",
   "execution_count": 49,
   "metadata": {},
   "outputs": [
    {
     "name": "stdout",
     "output_type": "stream",
     "text": [
      "Epoch 1/5\n",
      "500/500 [==============================] - 5s 11ms/step - loss: 0.7659 - accuracy: 0.7782 - val_loss: 0.2914 - val_accuracy: 0.9148\n",
      "Epoch 2/5\n",
      "500/500 [==============================] - 5s 11ms/step - loss: 0.2560 - accuracy: 0.9236 - val_loss: 0.2106 - val_accuracy: 0.9373\n",
      "Epoch 3/5\n",
      "500/500 [==============================] - 5s 11ms/step - loss: 0.1859 - accuracy: 0.9453 - val_loss: 0.1629 - val_accuracy: 0.9512\n",
      "Epoch 4/5\n",
      "500/500 [==============================] - 6s 12ms/step - loss: 0.1475 - accuracy: 0.9561 - val_loss: 0.1415 - val_accuracy: 0.9579\n",
      "Epoch 5/5\n",
      "500/500 [==============================] - 5s 10ms/step - loss: 0.1211 - accuracy: 0.9644 - val_loss: 0.1221 - val_accuracy: 0.9626\n"
     ]
    },
    {
     "data": {
      "text/plain": [
       "<tensorflow.python.keras.callbacks.History at 0x7fea6ce927b8>"
      ]
     },
     "execution_count": 49,
     "metadata": {},
     "output_type": "execute_result"
    }
   ],
   "source": [
    "callback = ConfusionMatrixCallbackReuseImages(experiment, x_test, y_test, confusion_matrix)\n",
    "\n",
    "model.fit(\n",
    "    x_train,\n",
    "    y_train,\n",
    "    batch_size=120,\n",
    "    epochs=5,\n",
    "    callbacks=[callback],\n",
    "    validation_data=(x_test, y_test),\n",
    ")"
   ]
  },
  {
   "cell_type": "markdown",
   "metadata": {},
   "source": [
    "We end the experiment (here you can see how many assets were uploaded):"
   ]
  },
  {
   "cell_type": "code",
   "execution_count": 50,
   "metadata": {},
   "outputs": [
    {
     "name": "stderr",
     "output_type": "stream",
     "text": [
      "COMET INFO: ---------------------------\n",
      "COMET INFO: Comet.ml Experiment Summary\n",
      "COMET INFO: ---------------------------\n",
      "COMET INFO:   Data:\n",
      "COMET INFO:     display_summary_level : 1\n",
      "COMET INFO:     url                   : https://www.comet.ml/dsblank/confusion-matrix/b3c8ac1e374346b2ae7ec385b189772c\n",
      "COMET INFO:   Metrics [count] (min, max):\n",
      "COMET INFO:     accuracy [5]                 : (0.778166651725769, 0.9643833041191101)\n",
      "COMET INFO:     batch_accuracy [250]         : (0.10000000149011612, 0.9666666388511658)\n",
      "COMET INFO:     batch_loss [250]             : (0.12138020992279053, 2.4744226932525635)\n",
      "COMET INFO:     epoch_duration [5]           : (5.151233671000227, 6.078110397997079)\n",
      "COMET INFO:     loss [5]                     : (0.12112180888652802, 0.765855610370636)\n",
      "COMET INFO:     val_accuracy [5]             : (0.9147999882698059, 0.9625999927520752)\n",
      "COMET INFO:     val_loss [5]                 : (0.12206530570983887, 0.29144158959388733)\n",
      "COMET INFO:     validate_batch_accuracy [45] : (0.892479658126831, 0.9916666746139526)\n",
      "COMET INFO:     validate_batch_loss [45]     : (0.03572890907526016, 0.3586212992668152)\n",
      "COMET INFO:   Others:\n",
      "COMET INFO:     trainable_params : 134794\n",
      "COMET INFO:   Parameters:\n",
      "COMET INFO:     Optimizer             : RMSprop\n",
      "COMET INFO:     RMSprop_centered      : 1\n",
      "COMET INFO:     RMSprop_decay         : 1\n",
      "COMET INFO:     RMSprop_epsilon       : 1e-07\n",
      "COMET INFO:     RMSprop_learning_rate : 0.001\n",
      "COMET INFO:     RMSprop_momentum      : 1\n",
      "COMET INFO:     RMSprop_name          : RMSprop\n",
      "COMET INFO:     RMSprop_rho           : 0.9\n",
      "COMET INFO:     epochs                : 5\n",
      "COMET INFO:     steps                 : 500\n",
      "COMET INFO:   Uploads [count]:\n",
      "COMET INFO:     confusion-matrix [6] : 6\n",
      "COMET INFO:     images [10]          : 10\n",
      "COMET INFO:     model graph          : 1\n",
      "COMET INFO: ---------------------------\n",
      "COMET INFO: Uploading stats to Comet before program termination (may take several seconds)\n",
      "COMET INFO: Waiting for completion of the file uploads (may take several seconds)\n",
      "COMET INFO: Still uploading\n"
     ]
    }
   ],
   "source": [
    "experiment.end()"
   ]
  },
  {
   "cell_type": "markdown",
   "metadata": {},
   "source": [
    "First, you'll notice that this trained much faster than the previous example, and the number of images was exactly 10. That is becaused we used one image for each image set, and we reused each of those between epochs."
   ]
  },
  {
   "cell_type": "markdown",
   "metadata": {},
   "source": [
    "See the full confusion matrix, complete with sample images in each cell (click on a cell to see the examples):"
   ]
  },
  {
   "cell_type": "code",
   "execution_count": 51,
   "metadata": {},
   "outputs": [
    {
     "data": {
      "text/html": [
       "\n",
       "        <iframe\n",
       "            width=\"100%\"\n",
       "            height=\"800px\"\n",
       "            src=\"https://www.comet.ml/dsblank/confusion-matrix/b3c8ac1e374346b2ae7ec385b189772c?experiment-tab=confusionMatrix\"\n",
       "            frameborder=\"0\"\n",
       "            allowfullscreen\n",
       "        ></iframe>\n",
       "        "
      ],
      "text/plain": [
       "<IPython.lib.display.IFrame at 0x7fea6ce930f0>"
      ]
     },
     "metadata": {},
     "output_type": "display_data"
    }
   ],
   "source": [
    "experiment.display(tab=\"confusion-matrices\")"
   ]
  },
  {
   "cell_type": "markdown",
   "metadata": {},
   "source": [
    "Note that each cell has up to 25 examples, but they are all the same. We could have used `max_examples_per_cell=1` to show only the single set image."
   ]
  },
  {
   "cell_type": "markdown",
   "metadata": {},
   "source": [
    "## Conclusion"
   ]
  },
  {
   "cell_type": "markdown",
   "metadata": {},
   "source": [
    "We hope that this gives you some ideas of how you can use the Comet Confusion Matrix! If you have questions or comments, feel free to visit the [Comet issue tracker](https://github.com/comet-ml/issue-tracking) and leave us a note."
   ]
  }
 ],
 "metadata": {
  "kernelspec": {
   "display_name": "Python 3",
   "language": "python",
   "name": "python3"
  },
  "language_info": {
   "codemirror_mode": {
    "name": "ipython",
    "version": 3
   },
   "file_extension": ".py",
   "mimetype": "text/x-python",
   "name": "python",
   "nbconvert_exporter": "python",
   "pygments_lexer": "ipython3",
   "version": "3.6.9"
  }
 },
 "nbformat": 4,
 "nbformat_minor": 4
}
